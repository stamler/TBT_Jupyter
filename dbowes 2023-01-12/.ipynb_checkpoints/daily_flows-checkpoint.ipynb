{
 "cells": [
  {
   "cell_type": "markdown",
   "id": "16175cb7-2889-483e-b609-a519986b9065",
   "metadata": {},
   "source": [
    "# Project for Don Bowes 2023-01-12\n",
    "\n",
    "This notebook takes an input CSV, *Turtle_Daily.csv\", and produces a single row for each date in the data set that has flow data. Each row contains two columns: the date and the corresponding flow value."
   ]
  },
  {
   "cell_type": "code",
   "execution_count": null,
   "id": "aad2cf9e-b5e3-4fb8-b4c0-8d819d1b6eeb",
   "metadata": {},
   "outputs": [],
   "source": [
    "# Load the file and confirm\n",
    "import pandas as pd\n",
    "import re\n",
    "from typing import List\n",
    "df = pd.read_csv(\"Turtle_Daily.csv\")"
   ]
  },
  {
   "cell_type": "code",
   "execution_count": null,
   "id": "8eadb0b8-9c48-4068-b2f3-000e855c57e5",
   "metadata": {},
   "outputs": [],
   "source": [
    "# Keep only the required YEAR, MONTH, & FLOW[1..31]columns and ignore the rest\n",
    "day_cols: List[str] = [f'FLOW{str(x)}' for x in range(1,32)]\n",
    "cols_to_keep: List[str] = [\"YEAR\", \"MONTH\"] + day_cols"
   ]
  },
  {
   "cell_type": "code",
   "execution_count": null,
   "id": "da7e4998-c5ce-4836-9c85-676c5a01a562",
   "metadata": {},
   "outputs": [],
   "source": [
    "# Given a DataFrame with columns YEAR, MONTH and then 31 other columns called FLOW1 through FLOW31, \n",
    "# we use melt() to create a dataframe with only two columns: a YEAR-MONTH-DAY column called \"Date\" \n",
    "# and a Flow column containing the corresponding value from the original dataframe.\n",
    "\n",
    "# First do the melt, using dropna() to ignore missing values\n",
    "df_melted = pd.melt(df, id_vars=['YEAR', 'MONTH'], value_vars=day_cols, var_name='FLOW', value_name='Flow').dropna()\n",
    "\n",
    "# Then create a new column called 'Date' by joining YEAR, MONTH and the day from FLOW.\n",
    "df_melted['Date'] = df_melted['YEAR'].astype(str) + '-' + df_melted['MONTH'].astype(str).str.zfill(2) + '-' + df_melted['FLOW'].str.replace('FLOW', '').str.zfill(2)\n",
    "\n",
    "# Drop the unused columns\n",
    "df_melted.drop(['YEAR', 'MONTH','FLOW'], axis=1, inplace=True)\n",
    "\n",
    "# Use pd.to_datetime() to convert the DATE column to datetime format and set it as index\n",
    "df_melted['Date'] = pd.to_datetime(df_melted['Date'],format='%Y-%m-%d')\n",
    "df_melted.set_index('Date',inplace=True)\n",
    "\n",
    "# Preview\n",
    "df_melted.head()"
   ]
  },
  {
   "cell_type": "code",
   "execution_count": null,
   "id": "84cd6d5f-595f-4cdd-ae9f-60b94e6258ca",
   "metadata": {
    "tags": []
   },
   "outputs": [],
   "source": [
    "# Output to CSV\n",
    "df_melted.sort_values(by=['Date']).to_csv(\"output.csv\", encoding='utf-8')"
   ]
  }
 ],
 "metadata": {
  "kernelspec": {
   "display_name": "Python 3",
   "language": "python",
   "name": "python3"
  },
  "language_info": {
   "codemirror_mode": {
    "name": "ipython",
    "version": 3
   },
   "file_extension": ".py",
   "mimetype": "text/x-python",
   "name": "python",
   "nbconvert_exporter": "python",
   "pygments_lexer": "ipython3",
   "version": "3.9.12"
  }
 },
 "nbformat": 4,
 "nbformat_minor": 5
}
